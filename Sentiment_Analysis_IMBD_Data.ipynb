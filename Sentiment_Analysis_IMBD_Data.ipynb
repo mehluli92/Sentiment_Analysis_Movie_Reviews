{
  "cells": [
    {
      "cell_type": "markdown",
      "metadata": {
        "id": "view-in-github",
        "colab_type": "text"
      },
      "source": [
        "<a href=\"https://colab.research.google.com/github/mehluli92/Sentiment_Analysis_Movie_Reviews/blob/main/Sentiment_Analysis_IMBD_Data.ipynb\" target=\"_parent\"><img src=\"https://colab.research.google.com/assets/colab-badge.svg\" alt=\"Open In Colab\"/></a>"
      ]
    },
    {
      "cell_type": "code",
      "execution_count": null,
      "id": "5f9bf776-b22d-4bdc-bdc4-03f9aa41038b",
      "metadata": {
        "id": "5f9bf776-b22d-4bdc-bdc4-03f9aa41038b"
      },
      "outputs": [],
      "source": [
        "import pandas as pd\n",
        "import numpy as np"
      ]
    },
    {
      "cell_type": "code",
      "source": [
        "from google.colab import files\n",
        "uploaded = files.upload()\n"
      ],
      "metadata": {
        "id": "SXhpYnW-sNNI"
      },
      "id": "SXhpYnW-sNNI",
      "execution_count": null,
      "outputs": []
    },
    {
      "cell_type": "markdown",
      "source": [
        "# New section"
      ],
      "metadata": {
        "id": "wANS15cxvRUX"
      },
      "id": "wANS15cxvRUX"
    },
    {
      "cell_type": "code",
      "execution_count": null,
      "id": "8d09cf63-b637-4abb-924f-7b10d798d999",
      "metadata": {
        "id": "8d09cf63-b637-4abb-924f-7b10d798d999"
      },
      "outputs": [],
      "source": [
        "data = pd.read_csv(\"IMDB_Dataset.csv\")\n",
        "data.head()"
      ]
    },
    {
      "cell_type": "code",
      "execution_count": null,
      "id": "6c171957-18f2-4c7c-917a-9fe039777451",
      "metadata": {
        "id": "6c171957-18f2-4c7c-917a-9fe039777451"
      },
      "outputs": [],
      "source": [
        "data.shape"
      ]
    },
    {
      "cell_type": "code",
      "execution_count": null,
      "id": "57c7b65a-cde8-4ea6-9832-ca0e7b4cb2ed",
      "metadata": {
        "id": "57c7b65a-cde8-4ea6-9832-ca0e7b4cb2ed"
      },
      "outputs": [],
      "source": [
        "type(data)"
      ]
    },
    {
      "cell_type": "code",
      "execution_count": null,
      "id": "2b95edf2-fefa-4321-9b5c-a171550d6d35",
      "metadata": {
        "id": "2b95edf2-fefa-4321-9b5c-a171550d6d35"
      },
      "outputs": [],
      "source": [
        "data.tail()"
      ]
    },
    {
      "cell_type": "code",
      "execution_count": null,
      "id": "26a27095-5197-474b-84a3-e05652f23fc8",
      "metadata": {
        "id": "26a27095-5197-474b-84a3-e05652f23fc8"
      },
      "outputs": [],
      "source": [
        "data[\"sentiment\"].value_counts()"
      ]
    },
    {
      "cell_type": "code",
      "execution_count": null,
      "id": "0bbd4c73-647a-4df5-838b-57a62b5f45fa",
      "metadata": {
        "id": "0bbd4c73-647a-4df5-838b-57a62b5f45fa"
      },
      "outputs": [],
      "source": [
        "# label encording positive = 1, negetive = 0\n",
        "data.replace({\"sentiment\": {\"positive\": 1, \"negative\": 0}}, inplace=True)\n",
        "data.head()"
      ]
    },
    {
      "cell_type": "code",
      "execution_count": null,
      "id": "16badfda-a2fb-49b4-8ceb-8afacd892f53",
      "metadata": {
        "id": "16badfda-a2fb-49b4-8ceb-8afacd892f53"
      },
      "outputs": [],
      "source": [
        "# Use LSTM -> Long Short Term Memory\n",
        "# RNN -> not good textual data because it has no memory\n",
        "from sklearn.model_selection import train_test_split\n",
        "from tensorflow.keras.models import Sequential\n",
        "from tensorflow.keras.layers import Dense, Embedding, LSTM\n",
        "from tensorflow.keras.preprocessing.text import Tokenizer\n",
        "from tensorflow.keras.preprocessing.sequence import pad_sequences"
      ]
    },
    {
      "cell_type": "code",
      "execution_count": null,
      "id": "502d63d2-8a56-4762-a773-b4c93fbd967e",
      "metadata": {
        "id": "502d63d2-8a56-4762-a773-b4c93fbd967e"
      },
      "outputs": [],
      "source": [
        "train_data, test_data = train_test_split(data, test_size = 0.2, random_state=42)"
      ]
    },
    {
      "cell_type": "code",
      "execution_count": null,
      "id": "3444bbe9-5aad-494c-8a70-70e26a02be4b",
      "metadata": {
        "id": "3444bbe9-5aad-494c-8a70-70e26a02be4b"
      },
      "outputs": [],
      "source": [
        "train_data.shape"
      ]
    },
    {
      "cell_type": "code",
      "execution_count": null,
      "id": "4315dc3f-d208-4d10-9a3c-12d95c114497",
      "metadata": {
        "id": "4315dc3f-d208-4d10-9a3c-12d95c114497"
      },
      "outputs": [],
      "source": [
        "test_data.shape"
      ]
    },
    {
      "cell_type": "code",
      "execution_count": null,
      "id": "867b6df9-2af7-4850-8a27-cbaab20813c3",
      "metadata": {
        "id": "867b6df9-2af7-4850-8a27-cbaab20813c3"
      },
      "outputs": [],
      "source": [
        "tokenizer = Tokenizer(num_words = 5000)\n",
        "tokenizer.fit_on_texts(train_data[\"review\"])"
      ]
    },
    {
      "cell_type": "code",
      "execution_count": null,
      "id": "d2c19457-cbce-4a39-b122-c47f362abe57",
      "metadata": {
        "id": "d2c19457-cbce-4a39-b122-c47f362abe57"
      },
      "outputs": [],
      "source": [
        "X_train = pad_sequences(tokenizer.texts_to_sequences(train_data[\"review\"]), maxlen=200)\n",
        "X_test = pad_sequences(tokenizer.texts_to_sequences(test_data[\"review\"]), maxlen=200)"
      ]
    },
    {
      "cell_type": "code",
      "execution_count": null,
      "id": "affd651b-c81a-4b4b-ae87-77d44641b1c4",
      "metadata": {
        "id": "affd651b-c81a-4b4b-ae87-77d44641b1c4"
      },
      "outputs": [],
      "source": [
        "X_train"
      ]
    },
    {
      "cell_type": "code",
      "execution_count": null,
      "id": "bf3d19c4-5ac5-4260-ab81-2b2253df2a7e",
      "metadata": {
        "id": "bf3d19c4-5ac5-4260-ab81-2b2253df2a7e"
      },
      "outputs": [],
      "source": [
        "Y_train = train_data[\"sentiment\"]\n",
        "Y_test = test_data[\"sentiment\"]"
      ]
    },
    {
      "cell_type": "code",
      "execution_count": null,
      "id": "5beb60f0-468c-40bb-b786-fca050febfb3",
      "metadata": {
        "id": "5beb60f0-468c-40bb-b786-fca050febfb3"
      },
      "outputs": [],
      "source": [
        "Y_train"
      ]
    },
    {
      "cell_type": "code",
      "execution_count": null,
      "id": "1cec26ec-b90c-49c0-8fa7-7688d36749a7",
      "metadata": {
        "id": "1cec26ec-b90c-49c0-8fa7-7688d36749a7"
      },
      "outputs": [],
      "source": [
        "# LSTM Model Building"
      ]
    },
    {
      "cell_type": "code",
      "execution_count": null,
      "id": "c6d1cd9a-da0f-4e94-ae1f-77354656cbe1",
      "metadata": {
        "id": "c6d1cd9a-da0f-4e94-ae1f-77354656cbe1"
      },
      "outputs": [],
      "source": [
        "model = Sequential()\n",
        "model.add(Embedding(input_dim = 5000, output_dim = 128, input_shape=(200,)))\n",
        "model.add(LSTM(128, dropout=0.2,recurrent_dropout = 0.2 ))\n",
        "model.add(Dense(1, activation = \"sigmoid\"))"
      ]
    },
    {
      "cell_type": "code",
      "execution_count": null,
      "id": "35baa96a-4155-4809-bc65-937cc5675966",
      "metadata": {
        "id": "35baa96a-4155-4809-bc65-937cc5675966"
      },
      "outputs": [],
      "source": [
        "model.summary()"
      ]
    },
    {
      "cell_type": "code",
      "execution_count": null,
      "id": "3fe60914-ffce-44ee-a0a6-744495590e7c",
      "metadata": {
        "id": "3fe60914-ffce-44ee-a0a6-744495590e7c"
      },
      "outputs": [],
      "source": [
        "model.compile(optimizer = \"adam\", loss=\"binary_crossentropy\", metrics=[\"accuracy\"])"
      ]
    },
    {
      "cell_type": "code",
      "execution_count": null,
      "id": "f9c470ea-eac9-46dc-9dac-7c015a1a4d85",
      "metadata": {
        "id": "f9c470ea-eac9-46dc-9dac-7c015a1a4d85"
      },
      "outputs": [],
      "source": [
        "model.fit(X_train, Y_train, epochs = 5, batch_size = 64, validation_split = 0.2 )"
      ]
    },
    {
      "cell_type": "code",
      "execution_count": null,
      "id": "64d50bdf-af45-4ab3-8a83-e5994dde3ac7",
      "metadata": {
        "id": "64d50bdf-af45-4ab3-8a83-e5994dde3ac7"
      },
      "outputs": [],
      "source": [
        "model.save(\"model.h5\")"
      ]
    },
    {
      "cell_type": "code",
      "source": [
        "import joblib\n",
        "joblib.dump(tokenizer, \"tokenizer.pkl\")"
      ],
      "metadata": {
        "id": "vM33uVhi8gHj"
      },
      "id": "vM33uVhi8gHj",
      "execution_count": null,
      "outputs": []
    },
    {
      "cell_type": "code",
      "source": [
        "loss, accuracy = model.evaluate(X_test, Y_test)"
      ],
      "metadata": {
        "id": "9yJPtPDq1xPt"
      },
      "id": "9yJPtPDq1xPt",
      "execution_count": null,
      "outputs": []
    },
    {
      "cell_type": "code",
      "source": [
        "# Building Predictive System"
      ],
      "metadata": {
        "id": "YSrlhEUa7ePh"
      },
      "id": "YSrlhEUa7ePh",
      "execution_count": null,
      "outputs": []
    },
    {
      "cell_type": "code",
      "source": [
        "def predictive_system(review):\n",
        "  sequences = tokenizer.texts_to_sequences([review])\n",
        "  padded_sequence = pad_sequences(sequences, maxlen=200)\n",
        "  prediction = model.predict(padded_sequence)\n",
        "  sentiment = \"positive\" if prediction[0][0] > 0.5 else \"negative\"\n",
        "  return sentiment"
      ],
      "metadata": {
        "id": "8N7a6kJ4738I"
      },
      "id": "8N7a6kJ4738I",
      "execution_count": null,
      "outputs": []
    },
    {
      "cell_type": "code",
      "source": [
        "predictive_system(\"This movies was amazing\")"
      ],
      "metadata": {
        "id": "TWwVVrEj9p7r"
      },
      "id": "TWwVVrEj9p7r",
      "execution_count": null,
      "outputs": []
    },
    {
      "cell_type": "code",
      "source": [
        "predictive_system(\"A thrilling adventure with stunning visual\")"
      ],
      "metadata": {
        "id": "DDV1mpkj9zRo"
      },
      "id": "DDV1mpkj9zRo",
      "execution_count": null,
      "outputs": []
    },
    {
      "cell_type": "code",
      "source": [],
      "metadata": {
        "id": "32N0QTuX_G5n"
      },
      "id": "32N0QTuX_G5n",
      "execution_count": null,
      "outputs": []
    }
  ],
  "metadata": {
    "kernelspec": {
      "display_name": "Python [conda env:practice_python_general]",
      "language": "python",
      "name": "conda-env-practice_python_general-py"
    },
    "language_info": {
      "codemirror_mode": {
        "name": "ipython",
        "version": 3
      },
      "file_extension": ".py",
      "mimetype": "text/x-python",
      "name": "python",
      "nbconvert_exporter": "python",
      "pygments_lexer": "ipython3",
      "version": "3.12.8"
    },
    "colab": {
      "provenance": [],
      "include_colab_link": true
    }
  },
  "nbformat": 4,
  "nbformat_minor": 5
}